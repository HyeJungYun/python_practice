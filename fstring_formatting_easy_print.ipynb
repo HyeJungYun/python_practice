{
 "cells": [
  {
   "cell_type": "markdown",
   "id": "8e083e05",
   "metadata": {},
   "source": [
    "## 전체 코드"
   ]
  },
  {
   "cell_type": "code",
   "execution_count": null,
   "id": "a7722acf",
   "metadata": {},
   "outputs": [],
   "source": [
    "## f-string = 지시자\n",
    "power=100\n",
    "print(f\"{power=}\")\n",
    "# 출력: power=100\n",
    "\n",
    "## 활용 예시\n",
    "gesus=100\n",
    "budda=[]\n",
    "for i in range(5):\n",
    "    gesus+=i\n",
    "    budda.append(gesus)\n",
    "    print(f\"{gesus=}, {len(budda) = }, {budda=}\")\n",
    "# 출력\n",
    "# gesus=100, len(budda) = 1, budda=[100]\n",
    "# gesus=101, len(budda) = 2, budda=[100, 101]\n",
    "# gesus=103, len(budda) = 3, budda=[100, 101, 103]\n",
    "# gesus=106, len(budda) = 4, budda=[100, 101, 103, 106]\n",
    "# gesus=110, len(budda) = 5, budda=[100, 101, 103, 106, 110]"
   ]
  },
  {
   "cell_type": "markdown",
   "id": "906128ea",
   "metadata": {},
   "source": [
    "## f-string = 지시자"
   ]
  },
  {
   "cell_type": "code",
   "execution_count": 13,
   "id": "630968ba",
   "metadata": {
    "ExecuteTime": {
     "end_time": "2022-07-08T16:00:10.657724Z",
     "start_time": "2022-07-08T16:00:10.651891Z"
    }
   },
   "outputs": [
    {
     "name": "stdout",
     "output_type": "stream",
     "text": [
      "power=100\n"
     ]
    }
   ],
   "source": [
    "power=100\n",
    "print(f\"{power=}\")"
   ]
  },
  {
   "cell_type": "markdown",
   "id": "be8fa25b",
   "metadata": {},
   "source": [
    "## 활용 예시"
   ]
  },
  {
   "cell_type": "code",
   "execution_count": 11,
   "id": "2e892e41",
   "metadata": {
    "ExecuteTime": {
     "end_time": "2022-07-08T15:38:14.004382Z",
     "start_time": "2022-07-08T15:38:13.998017Z"
    }
   },
   "outputs": [
    {
     "name": "stdout",
     "output_type": "stream",
     "text": [
      "gesus=100, len(budda) = 1, budda=[100]\n",
      "gesus=101, len(budda) = 2, budda=[100, 101]\n",
      "gesus=103, len(budda) = 3, budda=[100, 101, 103]\n",
      "gesus=106, len(budda) = 4, budda=[100, 101, 103, 106]\n",
      "gesus=110, len(budda) = 5, budda=[100, 101, 103, 106, 110]\n"
     ]
    }
   ],
   "source": [
    "gesus=100\n",
    "budda=[]\n",
    "for i in range(5):\n",
    "    gesus+=i\n",
    "    budda.append(gesus)\n",
    "    print(f\"{gesus=}, {len(budda) = }, {budda=}\")"
   ]
  }
 ],
 "metadata": {
  "kernelspec": {
   "display_name": "Python 3",
   "language": "python",
   "name": "python3"
  },
  "language_info": {
   "codemirror_mode": {
    "name": "ipython",
    "version": 3
   },
   "file_extension": ".py",
   "mimetype": "text/x-python",
   "name": "python",
   "nbconvert_exporter": "python",
   "pygments_lexer": "ipython3",
   "version": "3.8.12"
  },
  "toc": {
   "base_numbering": 1,
   "nav_menu": {},
   "number_sections": true,
   "sideBar": true,
   "skip_h1_title": false,
   "title_cell": "Table of Contents",
   "title_sidebar": "Contents",
   "toc_cell": false,
   "toc_position": {},
   "toc_section_display": true,
   "toc_window_display": false
  }
 },
 "nbformat": 4,
 "nbformat_minor": 5
}
