{
 "cells": [
  {
   "cell_type": "code",
   "execution_count": null,
   "id": "b099388e",
   "metadata": {},
   "outputs": [],
   "source": [
    "### 정수 1개 입력받기\n",
    "N = int(input())\n",
    "\n",
    "### 한줄 정수 리스트 입력받기\n",
    "li = [*map(int,input().split())]\n",
    "\n",
    "### 여러개 정수 입력받기\n",
    "a,b,c = map(int,input().split())\n",
    "\n",
    "### 여러 줄의 정수 리스트 입력받기\n",
    "n = int(input())\n",
    "li = [int(input()) for _ in range(n)]\n",
    "## n 없이 한 줄로\n",
    "li = [int(input()) for _ in range(int(input()))]\n",
    "\n",
    "### N행 배열 입력받기\n",
    "#### 숫자인 경우\n",
    "N=int(input()) # N개의 행\n",
    "arr=[[*map(int,input().split())] for _ in range(N)]\n",
    "\n",
    "#### 문자열인 경우\n",
    "N=int(input()) # N개의 행\n",
    "arr=[list(input()) for _ in range(N)]\n",
    "\n",
    "## 입력 빠르게하기\n",
    "import sys\n",
    "input=sys.stdin.readline # input함수 바꾸기"
   ]
  },
  {
   "cell_type": "markdown",
   "id": "91b79054",
   "metadata": {},
   "source": [
    "### 정수 1개 입력받기"
   ]
  },
  {
   "cell_type": "code",
   "execution_count": 24,
   "id": "8f53733f",
   "metadata": {
    "ExecuteTime": {
     "end_time": "2022-07-27T16:03:38.741286Z",
     "start_time": "2022-07-27T16:03:37.022192Z"
    }
   },
   "outputs": [
    {
     "name": "stdout",
     "output_type": "stream",
     "text": [
      "10\n"
     ]
    }
   ],
   "source": [
    "N = int(input())"
   ]
  },
  {
   "cell_type": "code",
   "execution_count": 25,
   "id": "fe39342e",
   "metadata": {
    "ExecuteTime": {
     "end_time": "2022-07-27T16:03:41.975788Z",
     "start_time": "2022-07-27T16:03:41.966087Z"
    }
   },
   "outputs": [
    {
     "data": {
      "text/plain": [
       "10"
      ]
     },
     "execution_count": 25,
     "metadata": {},
     "output_type": "execute_result"
    }
   ],
   "source": [
    "N"
   ]
  },
  {
   "cell_type": "markdown",
   "id": "2a68408b",
   "metadata": {},
   "source": [
    "### 한줄 정수 리스트 입력받기"
   ]
  },
  {
   "cell_type": "code",
   "execution_count": 6,
   "id": "29bd8116",
   "metadata": {
    "ExecuteTime": {
     "end_time": "2022-07-27T15:30:57.551997Z",
     "start_time": "2022-07-27T15:30:55.240737Z"
    }
   },
   "outputs": [
    {
     "name": "stdout",
     "output_type": "stream",
     "text": [
      "1 2 3 4 5\n"
     ]
    },
    {
     "data": {
      "text/plain": [
       "[1, 2, 3, 4, 5]"
      ]
     },
     "execution_count": 6,
     "metadata": {},
     "output_type": "execute_result"
    }
   ],
   "source": [
    "li = [*map(int,input().split())]\n",
    "li"
   ]
  },
  {
   "cell_type": "markdown",
   "id": "26e2e6b2",
   "metadata": {},
   "source": [
    "### 여러개 정수 입력받기"
   ]
  },
  {
   "cell_type": "code",
   "execution_count": 26,
   "id": "9b09e78a",
   "metadata": {
    "ExecuteTime": {
     "end_time": "2022-07-27T16:12:36.240011Z",
     "start_time": "2022-07-27T16:12:35.175818Z"
    }
   },
   "outputs": [
    {
     "name": "stdout",
     "output_type": "stream",
     "text": [
      "1 2 3\n"
     ]
    },
    {
     "data": {
      "text/plain": [
       "(1, 2, 3)"
      ]
     },
     "execution_count": 26,
     "metadata": {},
     "output_type": "execute_result"
    }
   ],
   "source": [
    "a,b,c = map(int,input().split())\n",
    "a,b,c"
   ]
  },
  {
   "cell_type": "markdown",
   "id": "59b5f2ad",
   "metadata": {},
   "source": [
    "### 여러 줄의 정수 리스트 입력받기"
   ]
  },
  {
   "cell_type": "code",
   "execution_count": 10,
   "id": "899e5c39",
   "metadata": {
    "ExecuteTime": {
     "end_time": "2022-07-27T15:32:05.053724Z",
     "start_time": "2022-07-27T15:32:01.429861Z"
    }
   },
   "outputs": [
    {
     "name": "stdout",
     "output_type": "stream",
     "text": [
      "3\n",
      "1\n",
      "2\n",
      "3\n"
     ]
    }
   ],
   "source": [
    "n = int(input()) # 입력 받을 정수 개수\n",
    "li = [int(input()) for _ in range(n)]"
   ]
  },
  {
   "cell_type": "code",
   "execution_count": 11,
   "id": "6623a25c",
   "metadata": {
    "ExecuteTime": {
     "end_time": "2022-07-27T15:32:10.593408Z",
     "start_time": "2022-07-27T15:32:10.584335Z"
    }
   },
   "outputs": [
    {
     "data": {
      "text/plain": [
       "(3, [1, 2, 3])"
      ]
     },
     "execution_count": 11,
     "metadata": {},
     "output_type": "execute_result"
    }
   ],
   "source": [
    "n,li"
   ]
  },
  {
   "cell_type": "markdown",
   "id": "c5dd417d",
   "metadata": {},
   "source": [
    "#### 한 줄 코드"
   ]
  },
  {
   "cell_type": "code",
   "execution_count": 12,
   "id": "110e5af1",
   "metadata": {
    "ExecuteTime": {
     "end_time": "2022-07-27T15:32:36.840009Z",
     "start_time": "2022-07-27T15:32:34.887978Z"
    }
   },
   "outputs": [
    {
     "name": "stdout",
     "output_type": "stream",
     "text": [
      "3\n",
      "1\n",
      "2\n",
      "3\n"
     ]
    }
   ],
   "source": [
    "li = [int(input()) for _ in range(int(input()))]"
   ]
  },
  {
   "cell_type": "code",
   "execution_count": 13,
   "id": "5d3ae788",
   "metadata": {
    "ExecuteTime": {
     "end_time": "2022-07-27T15:32:39.411887Z",
     "start_time": "2022-07-27T15:32:39.389881Z"
    }
   },
   "outputs": [
    {
     "data": {
      "text/plain": [
       "[1, 2, 3]"
      ]
     },
     "execution_count": 13,
     "metadata": {},
     "output_type": "execute_result"
    }
   ],
   "source": [
    "li"
   ]
  },
  {
   "cell_type": "markdown",
   "id": "89bd9ebf",
   "metadata": {},
   "source": [
    "### N행 배열 입력받기"
   ]
  },
  {
   "cell_type": "markdown",
   "id": "b4963d33",
   "metadata": {},
   "source": [
    "#### 숫자인 경우"
   ]
  },
  {
   "cell_type": "code",
   "execution_count": 29,
   "id": "e338b16e",
   "metadata": {
    "ExecuteTime": {
     "end_time": "2022-07-27T16:23:44.450840Z",
     "start_time": "2022-07-27T16:23:37.217960Z"
    }
   },
   "outputs": [
    {
     "name": "stdout",
     "output_type": "stream",
     "text": [
      "3\n",
      "1 2 3\n",
      "4 5 6\n",
      "7 8 9\n"
     ]
    }
   ],
   "source": [
    "N=int(input())\n",
    "arr=[[*map(int,input().split())] for _ in range(N)]"
   ]
  },
  {
   "cell_type": "code",
   "execution_count": 31,
   "id": "25e14fe1",
   "metadata": {
    "ExecuteTime": {
     "end_time": "2022-07-27T16:23:55.273414Z",
     "start_time": "2022-07-27T16:23:55.265057Z"
    }
   },
   "outputs": [
    {
     "name": "stdout",
     "output_type": "stream",
     "text": [
      "3\n",
      "[[1, 2, 3], [4, 5, 6], [7, 8, 9]]\n"
     ]
    }
   ],
   "source": [
    "print(N)\n",
    "print(arr)"
   ]
  },
  {
   "cell_type": "markdown",
   "id": "10363798",
   "metadata": {},
   "source": [
    "#### 문자열인 경우"
   ]
  },
  {
   "cell_type": "code",
   "execution_count": 32,
   "id": "388bdc79",
   "metadata": {
    "ExecuteTime": {
     "end_time": "2022-07-27T16:25:26.423414Z",
     "start_time": "2022-07-27T16:25:22.352528Z"
    }
   },
   "outputs": [
    {
     "name": "stdout",
     "output_type": "stream",
     "text": [
      "3\n",
      "abc\n",
      "def\n",
      "god\n"
     ]
    }
   ],
   "source": [
    "N=int(input())\n",
    "arr=[list(input()) for _ in range(N)]"
   ]
  },
  {
   "cell_type": "code",
   "execution_count": 34,
   "id": "0f3fd8b8",
   "metadata": {
    "ExecuteTime": {
     "end_time": "2022-07-27T16:25:37.931024Z",
     "start_time": "2022-07-27T16:25:37.922909Z"
    }
   },
   "outputs": [
    {
     "name": "stdout",
     "output_type": "stream",
     "text": [
      "3\n",
      "[['a', 'b', 'c'], ['d', 'e', 'f'], ['g', 'o', 'd']]\n"
     ]
    }
   ],
   "source": [
    "print(N)\n",
    "print(arr)"
   ]
  },
  {
   "cell_type": "code",
   "execution_count": null,
   "id": "ee32e3f5",
   "metadata": {},
   "outputs": [],
   "source": []
  }
 ],
 "metadata": {
  "kernelspec": {
   "display_name": "Python 3",
   "language": "python",
   "name": "python3"
  },
  "language_info": {
   "codemirror_mode": {
    "name": "ipython",
    "version": 3
   },
   "file_extension": ".py",
   "mimetype": "text/x-python",
   "name": "python",
   "nbconvert_exporter": "python",
   "pygments_lexer": "ipython3",
   "version": "3.8.12"
  },
  "toc": {
   "base_numbering": 1,
   "nav_menu": {},
   "number_sections": true,
   "sideBar": true,
   "skip_h1_title": false,
   "title_cell": "Table of Contents",
   "title_sidebar": "Contents",
   "toc_cell": false,
   "toc_position": {},
   "toc_section_display": true,
   "toc_window_display": true
  }
 },
 "nbformat": 4,
 "nbformat_minor": 5
}
