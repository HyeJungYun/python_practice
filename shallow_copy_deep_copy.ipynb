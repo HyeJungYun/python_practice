{
 "cells": [
  {
   "cell_type": "markdown",
   "id": "ca7494e2",
   "metadata": {},
   "source": [
    "## 전체 코드"
   ]
  },
  {
   "cell_type": "code",
   "execution_count": null,
   "id": "b5455a9e",
   "metadata": {},
   "outputs": [],
   "source": [
    "## 얕은 복사\n",
    "a=[1,2,3]\n",
    "b=a[:] # b=a.copy()도 똑같이 동작\n",
    "b.append(1)\n",
    "print(f\"{a=}, {b=}, {id(a)=}, {id(b)=}\") \n",
    "# 출력: a=[1, 2, 3], b=[1, 2, 3, 1], id(a)=4379693696, id(b)=4379284288\n",
    "\n",
    "## 얕은 복사의 한계\n",
    "a=[[1,2],[3,4]]\n",
    "b=a.copy() # 얕은 복사\n",
    "a[0][0]=100\n",
    "print(f\"{a=}, {b=}, {id(a)=}, {id(b)=}\") \n",
    "# 출력: a=[[100, 2], [3, 4]], b=[[100, 2], [3, 4]], id(a)=4378411776, id(b)=4378556096\n",
    "print(f\"{id(a[0])=}, {id(b[0])=}\") # 출력: id(a[0])=4378554432, id(b[0])=4378554432\n",
    "\n",
    "## 깊은 복사\n",
    "import copy\n",
    "a=[[1,2],[3,4]]\n",
    "b=copy.deepcopy(a) # 깊은 복사 \n",
    "a[0][0]=100\n",
    "print(f\"{a=}, {b=}, {id(a)=}, {id(b)=}\") \n",
    "# 출력: a=[[100, 2], [3, 4]], b=[[1, 2], [3, 4]], id(a)=4378411648, id(b)=4378411968\n",
    "print(f\"{id(a[0])=}, {id(b[0])=}\") # 출력: id(a[0])=4378412416, id(b[0])=4378411584"
   ]
  },
  {
   "cell_type": "markdown",
   "id": "1126b057",
   "metadata": {},
   "source": [
    "## 얕은 복사가 필요한 이유"
   ]
  },
  {
   "cell_type": "code",
   "execution_count": 4,
   "id": "009731c1",
   "metadata": {
    "ExecuteTime": {
     "end_time": "2022-07-09T15:02:07.118694Z",
     "start_time": "2022-07-09T15:02:07.111423Z"
    }
   },
   "outputs": [
    {
     "name": "stdout",
     "output_type": "stream",
     "text": [
      "a=[1, 2, 3, 1], b=[1, 2, 3, 1]\n"
     ]
    }
   ],
   "source": [
    "a=[1,2,3]\n",
    "b=a\n",
    "b.append(1)\n",
    "print(f\"{a=}, {b=}\")"
   ]
  },
  {
   "cell_type": "code",
   "execution_count": 5,
   "id": "7aaf4310",
   "metadata": {
    "ExecuteTime": {
     "end_time": "2022-07-09T15:03:22.143197Z",
     "start_time": "2022-07-09T15:03:22.135567Z"
    }
   },
   "outputs": [
    {
     "name": "stdout",
     "output_type": "stream",
     "text": [
      "id(a)=4378518016, id(b)=4378518016\n"
     ]
    }
   ],
   "source": [
    "print(f\"{id(a)=}, {id(b)=}\")"
   ]
  },
  {
   "cell_type": "markdown",
   "id": "293a1cdf",
   "metadata": {},
   "source": [
    "## 얕은 복사"
   ]
  },
  {
   "cell_type": "code",
   "execution_count": 13,
   "id": "8189ca49",
   "metadata": {
    "ExecuteTime": {
     "end_time": "2022-07-09T15:14:01.436846Z",
     "start_time": "2022-07-09T15:14:01.431372Z"
    }
   },
   "outputs": [
    {
     "name": "stdout",
     "output_type": "stream",
     "text": [
      "a=[1, 2, 3], b=[1, 2, 3, 1]\n",
      "id(a)=4379693696, id(b)=4379284288\n"
     ]
    }
   ],
   "source": [
    "a=[1,2,3]\n",
    "b=a[:] # b=a.copy()도 똑같이 동작\n",
    "b.append(1)\n",
    "print(f\"{a=}, {b=}\")\n",
    "print(f\"{id(a)=}, {id(b)=}\")"
   ]
  },
  {
   "cell_type": "markdown",
   "id": "5634ce72",
   "metadata": {
    "ExecuteTime": {
     "end_time": "2022-07-09T15:13:33.134304Z",
     "start_time": "2022-07-09T15:13:33.130128Z"
    }
   },
   "source": [
    "## 얕은 복사의 한계"
   ]
  },
  {
   "cell_type": "code",
   "execution_count": 12,
   "id": "45eaf917",
   "metadata": {
    "ExecuteTime": {
     "end_time": "2022-07-09T15:13:53.552891Z",
     "start_time": "2022-07-09T15:13:53.542267Z"
    }
   },
   "outputs": [
    {
     "name": "stdout",
     "output_type": "stream",
     "text": [
      "a=[[100, 2], [3, 4]], b=[[100, 2], [3, 4]]\n",
      "id(a)=4378411776, id(b)=4378556096\n",
      "id(a[0])=4378554432, id(b[0])=4378554432\n"
     ]
    }
   ],
   "source": [
    "a=[[1,2],[3,4]]\n",
    "b=a.copy() # 얕은 복사\n",
    "a[0][0]=100\n",
    "print(f\"{a=}, {b=}\")\n",
    "print(f\"{id(a)=}, {id(b)=}\")\n",
    "print(f\"{id(a[0])=}, {id(b[0])=}\")"
   ]
  },
  {
   "cell_type": "markdown",
   "id": "4cb09732",
   "metadata": {},
   "source": [
    "## 깊은 복사"
   ]
  },
  {
   "cell_type": "code",
   "execution_count": 15,
   "id": "47d3d1b6",
   "metadata": {
    "ExecuteTime": {
     "end_time": "2022-07-09T15:22:13.213995Z",
     "start_time": "2022-07-09T15:22:13.206347Z"
    }
   },
   "outputs": [
    {
     "name": "stdout",
     "output_type": "stream",
     "text": [
      "a=[[100, 2], [3, 4]], b=[[1, 2], [3, 4]]\n",
      "id(a)=4378411648, id(b)=4378411968\n",
      "id(a[0])=4378412416, id(b[0])=4378411584\n"
     ]
    }
   ],
   "source": [
    "import copy\n",
    "a=[[1,2],[3,4]]\n",
    "b = copy.deepcopy(a)\n",
    "a[0][0]=100\n",
    "print(f\"{a=}, {b=}\")\n",
    "print(f\"{id(a)=}, {id(b)=}\")\n",
    "print(f\"{id(a[0])=}, {id(b[0])=}\")"
   ]
  }
 ],
 "metadata": {
  "kernelspec": {
   "display_name": "Python 3",
   "language": "python",
   "name": "python3"
  },
  "language_info": {
   "codemirror_mode": {
    "name": "ipython",
    "version": 3
   },
   "file_extension": ".py",
   "mimetype": "text/x-python",
   "name": "python",
   "nbconvert_exporter": "python",
   "pygments_lexer": "ipython3",
   "version": "3.8.12"
  },
  "toc": {
   "base_numbering": 1,
   "nav_menu": {},
   "number_sections": true,
   "sideBar": true,
   "skip_h1_title": false,
   "title_cell": "Table of Contents",
   "title_sidebar": "Contents",
   "toc_cell": false,
   "toc_position": {},
   "toc_section_display": true,
   "toc_window_display": true
  }
 },
 "nbformat": 4,
 "nbformat_minor": 5
}
