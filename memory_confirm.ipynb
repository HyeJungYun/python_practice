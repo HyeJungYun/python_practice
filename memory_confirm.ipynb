{
 "cells": [
  {
   "cell_type": "markdown",
   "id": "92b9eb6b",
   "metadata": {},
   "source": [
    "## 전체 메모리 확인"
   ]
  },
  {
   "cell_type": "markdown",
   "id": "a8571c8b",
   "metadata": {},
   "source": [
    "### 설치 -> 재시작하면 자동으로 확인"
   ]
  },
  {
   "cell_type": "code",
   "execution_count": null,
   "id": "186bdf0a",
   "metadata": {},
   "outputs": [],
   "source": [
    "!pip install jupyter-resource-usage"
   ]
  },
  {
   "cell_type": "markdown",
   "id": "09138db9",
   "metadata": {
    "ExecuteTime": {
     "end_time": "2022-07-04T12:34:24.817859Z",
     "start_time": "2022-07-04T12:34:24.813435Z"
    }
   },
   "source": [
    "## 개별 메모리 확인"
   ]
  },
  {
   "cell_type": "markdown",
   "id": "1d8986f0",
   "metadata": {},
   "source": [
    "### 설치"
   ]
  },
  {
   "cell_type": "code",
   "execution_count": 1,
   "id": "94c7f594",
   "metadata": {
    "ExecuteTime": {
     "end_time": "2022-07-04T11:30:50.389046Z",
     "start_time": "2022-07-04T11:30:47.856909Z"
    }
   },
   "outputs": [
    {
     "name": "stdout",
     "output_type": "stream",
     "text": [
      "Collecting memory_profiler\n",
      "  Downloading memory_profiler-0.60.0.tar.gz (38 kB)\n",
      "  Preparing metadata (setup.py) ... \u001b[?25ldone\n",
      "\u001b[?25hRequirement already satisfied: psutil in /Users/cwj/miniconda3/envs/tf25/lib/python3.8/site-packages (from memory_profiler) (5.9.1)\n",
      "Building wheels for collected packages: memory_profiler\n",
      "  Building wheel for memory_profiler (setup.py) ... \u001b[?25ldone\n",
      "\u001b[?25h  Created wheel for memory_profiler: filename=memory_profiler-0.60.0-py3-none-any.whl size=31284 sha256=d3321f6b9c3722840e1760b3716f2ed589d46acf0714417a69bb69ad8b7d6f42\n",
      "  Stored in directory: /Users/cwj/Library/Caches/pip/wheels/01/ca/8b/b518dd2aef69635ad6fcab87069c9c52f355a2e9c5d4c02da9\n",
      "Successfully built memory_profiler\n",
      "Installing collected packages: memory_profiler\n",
      "Successfully installed memory_profiler-0.60.0\n"
     ]
    }
   ],
   "source": [
    "!pip install memory_profiler"
   ]
  },
  {
   "cell_type": "markdown",
   "id": "6caaf5ff",
   "metadata": {},
   "source": [
    "### 확인"
   ]
  },
  {
   "cell_type": "code",
   "execution_count": 2,
   "id": "138eb9b4",
   "metadata": {
    "ExecuteTime": {
     "end_time": "2022-07-04T12:08:40.461634Z",
     "start_time": "2022-07-04T12:08:38.987723Z"
    }
   },
   "outputs": [
    {
     "name": "stdout",
     "output_type": "stream",
     "text": [
      "peak memory: 54.92 MiB, increment: 0.42 MiB\n"
     ]
    }
   ],
   "source": [
    "# 외장 모듈 호출\n",
    "%load_ext memory_profiler \n",
    "\n",
    "# 매직 커맨드를 사용한 메모리 사용량 확인\n",
    "%memit "
   ]
  },
  {
   "cell_type": "code",
   "execution_count": 3,
   "id": "07605458",
   "metadata": {
    "ExecuteTime": {
     "end_time": "2022-07-04T12:09:01.767010Z",
     "start_time": "2022-07-04T12:09:01.657115Z"
    }
   },
   "outputs": [
    {
     "name": "stdout",
     "output_type": "stream",
     "text": [
      "54.92 MiB\n"
     ]
    }
   ],
   "source": [
    "from memory_profiler import memory_usage\n",
    "print(f\"{memory_usage()[0]:.2f} MiB\")"
   ]
  }
 ],
 "metadata": {
  "kernelspec": {
   "display_name": "Python 3",
   "language": "python",
   "name": "python3"
  },
  "language_info": {
   "codemirror_mode": {
    "name": "ipython",
    "version": 3
   },
   "file_extension": ".py",
   "mimetype": "text/x-python",
   "name": "python",
   "nbconvert_exporter": "python",
   "pygments_lexer": "ipython3",
   "version": "3.8.12"
  },
  "toc": {
   "base_numbering": 1,
   "nav_menu": {},
   "number_sections": true,
   "sideBar": true,
   "skip_h1_title": false,
   "title_cell": "Table of Contents",
   "title_sidebar": "Contents",
   "toc_cell": false,
   "toc_position": {},
   "toc_section_display": true,
   "toc_window_display": false
  }
 },
 "nbformat": 4,
 "nbformat_minor": 5
}
