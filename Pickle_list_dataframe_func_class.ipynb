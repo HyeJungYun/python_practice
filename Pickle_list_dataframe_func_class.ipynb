{
 "cells": [
  {
   "cell_type": "markdown",
   "id": "f5366e11",
   "metadata": {},
   "source": [
    "### list 다루기"
   ]
  },
  {
   "cell_type": "code",
   "execution_count": 1,
   "id": "9ff9f10f",
   "metadata": {
    "ExecuteTime": {
     "end_time": "2022-07-01T08:17:55.973977Z",
     "start_time": "2022-07-01T08:17:55.966526Z"
    }
   },
   "outputs": [
    {
     "name": "stdout",
     "output_type": "stream",
     "text": [
      "<class 'list'>\n",
      "[0, 1, 2, 3, 4, 5]\n"
     ]
    }
   ],
   "source": [
    "import pickle\n",
    "\n",
    "li=[0,1,2,3,4,5]\n",
    "## pickle은 python에 특화된 binary 파일이다.\n",
    "with open(\"list.pickle\",\"wb\") as f:\n",
    "    pickle.dump(li, f) # 위에서 생성한 리스트를 list.pickle로 저장    \n",
    "\n",
    "with open(\"list.pickle\",\"rb\") as fi:\n",
    "    test = pickle.load(fi) # list.pickle 읽어서 출력 -> list 잘 불러와졌다.\n",
    "\n",
    "# pickle로 불러온 test의 type과 값 출력\n",
    "print(type(test))\n",
    "print(test)"
   ]
  },
  {
   "cell_type": "markdown",
   "id": "3ee6a197",
   "metadata": {},
   "source": [
    "### 데이터프레임 다루기"
   ]
  },
  {
   "cell_type": "code",
   "execution_count": 2,
   "id": "760e8717",
   "metadata": {
    "ExecuteTime": {
     "end_time": "2022-07-01T08:17:56.871097Z",
     "start_time": "2022-07-01T08:17:56.583585Z"
    }
   },
   "outputs": [
    {
     "data": {
      "text/html": [
       "<div>\n",
       "<style scoped>\n",
       "    .dataframe tbody tr th:only-of-type {\n",
       "        vertical-align: middle;\n",
       "    }\n",
       "\n",
       "    .dataframe tbody tr th {\n",
       "        vertical-align: top;\n",
       "    }\n",
       "\n",
       "    .dataframe thead th {\n",
       "        text-align: right;\n",
       "    }\n",
       "</style>\n",
       "<table border=\"1\" class=\"dataframe\">\n",
       "  <thead>\n",
       "    <tr style=\"text-align: right;\">\n",
       "      <th></th>\n",
       "      <th>A</th>\n",
       "      <th>B</th>\n",
       "    </tr>\n",
       "  </thead>\n",
       "  <tbody>\n",
       "    <tr>\n",
       "      <th>0</th>\n",
       "      <td>0</td>\n",
       "      <td>2</td>\n",
       "    </tr>\n",
       "    <tr>\n",
       "      <th>1</th>\n",
       "      <td>1</td>\n",
       "      <td>3</td>\n",
       "    </tr>\n",
       "  </tbody>\n",
       "</table>\n",
       "</div>"
      ],
      "text/plain": [
       "   A  B\n",
       "0  0  2\n",
       "1  1  3"
      ]
     },
     "execution_count": 2,
     "metadata": {},
     "output_type": "execute_result"
    }
   ],
   "source": [
    "import pandas as pd\n",
    "df = pd.DataFrame({'A':[0,1],'B':[2,3]})\n",
    "df"
   ]
  },
  {
   "cell_type": "code",
   "execution_count": 3,
   "id": "d04a051f",
   "metadata": {
    "ExecuteTime": {
     "end_time": "2022-07-01T08:17:57.408575Z",
     "start_time": "2022-07-01T08:17:57.389126Z"
    }
   },
   "outputs": [
    {
     "name": "stdout",
     "output_type": "stream",
     "text": [
      "<class 'pandas.core.frame.DataFrame'>\n"
     ]
    },
    {
     "data": {
      "text/html": [
       "<div>\n",
       "<style scoped>\n",
       "    .dataframe tbody tr th:only-of-type {\n",
       "        vertical-align: middle;\n",
       "    }\n",
       "\n",
       "    .dataframe tbody tr th {\n",
       "        vertical-align: top;\n",
       "    }\n",
       "\n",
       "    .dataframe thead th {\n",
       "        text-align: right;\n",
       "    }\n",
       "</style>\n",
       "<table border=\"1\" class=\"dataframe\">\n",
       "  <thead>\n",
       "    <tr style=\"text-align: right;\">\n",
       "      <th></th>\n",
       "      <th>A</th>\n",
       "      <th>B</th>\n",
       "    </tr>\n",
       "  </thead>\n",
       "  <tbody>\n",
       "    <tr>\n",
       "      <th>0</th>\n",
       "      <td>0</td>\n",
       "      <td>2</td>\n",
       "    </tr>\n",
       "    <tr>\n",
       "      <th>1</th>\n",
       "      <td>1</td>\n",
       "      <td>3</td>\n",
       "    </tr>\n",
       "  </tbody>\n",
       "</table>\n",
       "</div>"
      ],
      "text/plain": [
       "   A  B\n",
       "0  0  2\n",
       "1  1  3"
      ]
     },
     "execution_count": 3,
     "metadata": {},
     "output_type": "execute_result"
    }
   ],
   "source": [
    "## pickle은 python에 특화된 binary 파일이다.\n",
    "with open(\"df.pickle\",\"wb\") as f:\n",
    "    pickle.dump(df, f) # 위에서 생성한 데이터 프레임을 df.pickle로 저장    \n",
    "\n",
    "with open(\"df.pickle\",\"rb\") as fi:\n",
    "    test = pickle.load(fi) # df.pickle 읽기\n",
    "# 출력해보면 pandas의 데이터프레임이 그대로 잘 출력됨.\n",
    "print(type(test))\n",
    "test"
   ]
  },
  {
   "cell_type": "markdown",
   "id": "57d989bd",
   "metadata": {},
   "source": [
    "### 함수 다루기"
   ]
  },
  {
   "cell_type": "code",
   "execution_count": 4,
   "id": "77bd9439",
   "metadata": {
    "ExecuteTime": {
     "end_time": "2022-07-01T08:18:00.182085Z",
     "start_time": "2022-07-01T08:18:00.174829Z"
    }
   },
   "outputs": [
    {
     "name": "stdout",
     "output_type": "stream",
     "text": [
      "<built-in function array>\n"
     ]
    }
   ],
   "source": [
    "import numpy as np\n",
    "print(np.array)"
   ]
  },
  {
   "cell_type": "code",
   "execution_count": 5,
   "id": "3c32152c",
   "metadata": {
    "ExecuteTime": {
     "end_time": "2022-07-01T08:18:00.480624Z",
     "start_time": "2022-07-01T08:18:00.471056Z"
    }
   },
   "outputs": [
    {
     "name": "stdout",
     "output_type": "stream",
     "text": [
      "<class 'numpy.ndarray'>\n",
      "[0 1 2 3 4 5 6 7 8 9]\n"
     ]
    }
   ],
   "source": [
    "with open(\"array.pickle\",\"wb\") as f:\n",
    "    pickle.dump(np.array, f)\n",
    "with open(\"array.pickle\",\"rb\") as fi:\n",
    "    arr = pickle.load(fi)\n",
    "\n",
    "k = arr(list(range(10)))\n",
    "print(type(k))\n",
    "print(k)"
   ]
  },
  {
   "cell_type": "markdown",
   "id": "e917b5bd",
   "metadata": {},
   "source": [
    "### 클래스 다루기"
   ]
  },
  {
   "cell_type": "code",
   "execution_count": 6,
   "id": "e79c1e3e",
   "metadata": {
    "ExecuteTime": {
     "end_time": "2022-07-01T08:18:02.820439Z",
     "start_time": "2022-07-01T08:18:02.809781Z"
    }
   },
   "outputs": [
    {
     "data": {
      "text/plain": [
       "9"
      ]
     },
     "execution_count": 6,
     "metadata": {},
     "output_type": "execute_result"
    }
   ],
   "source": [
    "# 클래스 내부에 multiplier 값을 저장\n",
    "# 이후에 multiply 메소드에 들어오는 값을 multiplier와 곱해서 반환\n",
    "class Multiply(object):\n",
    "    def __init__(self, multiplier):\n",
    "        self.multiplier = multiplier\n",
    "        \n",
    "    def multiply(self, num):\n",
    "        return num * self.multiplier\n",
    "\n",
    "mply = Multiply(3) # multiplier를 3으로 지정\n",
    "mply.multiply(3) # multiplier * 3 반환 => 9"
   ]
  },
  {
   "cell_type": "code",
   "execution_count": 7,
   "id": "bed0b691",
   "metadata": {
    "ExecuteTime": {
     "end_time": "2022-07-01T08:18:03.201996Z",
     "start_time": "2022-07-01T08:18:03.182502Z"
    }
   },
   "outputs": [
    {
     "name": "stdout",
     "output_type": "stream",
     "text": [
      "<class '__main__.Multiply'>\n"
     ]
    },
    {
     "data": {
      "text/plain": [
       "30"
      ]
     },
     "execution_count": 7,
     "metadata": {},
     "output_type": "execute_result"
    }
   ],
   "source": [
    "with open(\"mply_object.pickle\",\"wb\") as f:\n",
    "    pickle.dump(mply, f)\n",
    "\n",
    "with open(\"mply_object.pickle\",\"rb\") as fi:\n",
    "    mply_pickle = pickle.load(fi)    \n",
    "\n",
    "print(type(mply_pickle))\n",
    "mply_pickle.multiply(10)"
   ]
  }
 ],
 "metadata": {
  "kernelspec": {
   "display_name": "Python 3",
   "language": "python",
   "name": "python3"
  },
  "language_info": {
   "codemirror_mode": {
    "name": "ipython",
    "version": 3
   },
   "file_extension": ".py",
   "mimetype": "text/x-python",
   "name": "python",
   "nbconvert_exporter": "python",
   "pygments_lexer": "ipython3",
   "version": "3.8.12"
  },
  "toc": {
   "base_numbering": 1,
   "nav_menu": {},
   "number_sections": true,
   "sideBar": true,
   "skip_h1_title": false,
   "title_cell": "Table of Contents",
   "title_sidebar": "Contents",
   "toc_cell": false,
   "toc_position": {},
   "toc_section_display": true,
   "toc_window_display": false
  }
 },
 "nbformat": 4,
 "nbformat_minor": 5
}
