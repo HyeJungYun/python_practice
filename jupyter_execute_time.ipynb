{
 "cells": [
  {
   "cell_type": "markdown",
   "id": "0dc03e4e",
   "metadata": {},
   "source": [
    "## time 라이브러리 - 수행 시간"
   ]
  },
  {
   "cell_type": "code",
   "execution_count": 24,
   "id": "1377f35d",
   "metadata": {
    "ExecuteTime": {
     "end_time": "2022-07-06T12:56:12.091239Z",
     "start_time": "2022-07-06T12:56:11.085215Z"
    }
   },
   "outputs": [
    {
     "name": "stdout",
     "output_type": "stream",
     "text": [
      "1.0007 sec\n"
     ]
    }
   ],
   "source": [
    "import time # time 라이브러리 import\n",
    "start = time.time() # 시작\n",
    "\n",
    "time.sleep(1) # 수행시간 측정하고자 하는 코드 부분\n",
    "\n",
    "print(f\"{time.time()-start:.4f} sec\") # 종료와 함께 수행시간 출력"
   ]
  },
  {
   "cell_type": "markdown",
   "id": "02df108f",
   "metadata": {},
   "source": [
    "## time.time() 의미"
   ]
  },
  {
   "cell_type": "code",
   "execution_count": 30,
   "id": "db125b33",
   "metadata": {
    "ExecuteTime": {
     "end_time": "2022-07-06T13:17:11.553748Z",
     "start_time": "2022-07-06T13:17:11.534426Z"
    }
   },
   "outputs": [
    {
     "data": {
      "text/plain": [
       "1657113431.540124"
      ]
     },
     "execution_count": 30,
     "metadata": {},
     "output_type": "execute_result"
    }
   ],
   "source": [
    "time.time() # 1970년 1월 1일 00:00:00시부터 현재까지 1초단위로"
   ]
  },
  {
   "cell_type": "markdown",
   "id": "b3858234",
   "metadata": {},
   "source": [
    "## datetime 라이브러리 - 수행 시간 보기 좋게"
   ]
  },
  {
   "cell_type": "code",
   "execution_count": 27,
   "id": "ee68a2ff",
   "metadata": {
    "ExecuteTime": {
     "end_time": "2022-07-06T12:57:15.976712Z",
     "start_time": "2022-07-06T12:57:14.963332Z"
    }
   },
   "outputs": [
    {
     "name": "stdout",
     "output_type": "stream",
     "text": [
      "0:00:01.005548 sec\n",
      "0:00:01 sec\n"
     ]
    }
   ],
   "source": [
    "import time\n",
    "import datetime # datetime 라이브러리 import\n",
    "\n",
    "start = time.time() # 시작\n",
    "time.sleep(1) # 수행시간 측정하고자 하는 코드 부분\n",
    "sec = time.time()-start # 종료 - 시작 (걸린 시간)\n",
    "\n",
    "times = str(datetime.timedelta(seconds=sec)) # 걸린시간 보기좋게 바꾸기\n",
    "short = times.split(\".\")[0] # 초 단위 까지만\n",
    "print(f\"{times} sec\")\n",
    "print(f\"{short} sec\")"
   ]
  },
  {
   "cell_type": "markdown",
   "id": "c37af563",
   "metadata": {},
   "source": [
    "## %%timeit"
   ]
  },
  {
   "cell_type": "code",
   "execution_count": 28,
   "id": "11c70f8c",
   "metadata": {
    "ExecuteTime": {
     "end_time": "2022-07-06T12:57:37.233929Z",
     "start_time": "2022-07-06T12:57:29.202513Z"
    }
   },
   "outputs": [
    {
     "name": "stdout",
     "output_type": "stream",
     "text": [
      "1 s ± 1.5 ms per loop (mean ± std. dev. of 7 runs, 1 loop each)\n"
     ]
    }
   ],
   "source": [
    "%%timeit\n",
    "time.sleep(1)"
   ]
  },
  {
   "cell_type": "markdown",
   "id": "17a5a803",
   "metadata": {},
   "source": [
    "## %%time"
   ]
  },
  {
   "cell_type": "code",
   "execution_count": 22,
   "id": "74cdbc08",
   "metadata": {
    "ExecuteTime": {
     "end_time": "2022-07-06T12:55:59.218958Z",
     "start_time": "2022-07-06T12:55:58.209586Z"
    }
   },
   "outputs": [
    {
     "name": "stdout",
     "output_type": "stream",
     "text": [
      "CPU times: user 887 µs, sys: 2.24 ms, total: 3.13 ms\n",
      "Wall time: 1 s\n"
     ]
    }
   ],
   "source": [
    "%%time\n",
    "time.sleep(1)"
   ]
  }
 ],
 "metadata": {
  "kernelspec": {
   "display_name": "Python 3",
   "language": "python",
   "name": "python3"
  },
  "language_info": {
   "codemirror_mode": {
    "name": "ipython",
    "version": 3
   },
   "file_extension": ".py",
   "mimetype": "text/x-python",
   "name": "python",
   "nbconvert_exporter": "python",
   "pygments_lexer": "ipython3",
   "version": "3.8.12"
  },
  "toc": {
   "base_numbering": 1,
   "nav_menu": {},
   "number_sections": true,
   "sideBar": true,
   "skip_h1_title": false,
   "title_cell": "Table of Contents",
   "title_sidebar": "Contents",
   "toc_cell": false,
   "toc_position": {},
   "toc_section_display": true,
   "toc_window_display": false
  }
 },
 "nbformat": 4,
 "nbformat_minor": 5
}
