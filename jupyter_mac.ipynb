{
 "cells": [
  {
   "cell_type": "markdown",
   "id": "9ddbcbcb",
   "metadata": {},
   "source": [
    "## 폴더(Finder) 열기"
   ]
  },
  {
   "cell_type": "code",
   "execution_count": 5,
   "id": "0c4114de",
   "metadata": {
    "ExecuteTime": {
     "end_time": "2022-07-10T15:28:42.537987Z",
     "start_time": "2022-07-10T15:28:42.332952Z"
    }
   },
   "outputs": [],
   "source": [
    "!open ."
   ]
  },
  {
   "cell_type": "markdown",
   "id": "6de3485d",
   "metadata": {},
   "source": [
    "## Vscode 열기"
   ]
  },
  {
   "cell_type": "code",
   "execution_count": 6,
   "id": "bdda5353",
   "metadata": {
    "ExecuteTime": {
     "end_time": "2022-07-10T15:30:19.995217Z",
     "start_time": "2022-07-10T15:30:19.733576Z"
    }
   },
   "outputs": [],
   "source": [
    "!code ."
   ]
  }
 ],
 "metadata": {
  "kernelspec": {
   "display_name": "Python 3",
   "language": "python",
   "name": "python3"
  },
  "language_info": {
   "codemirror_mode": {
    "name": "ipython",
    "version": 3
   },
   "file_extension": ".py",
   "mimetype": "text/x-python",
   "name": "python",
   "nbconvert_exporter": "python",
   "pygments_lexer": "ipython3",
   "version": "3.8.12"
  },
  "toc": {
   "base_numbering": 1,
   "nav_menu": {},
   "number_sections": true,
   "sideBar": true,
   "skip_h1_title": false,
   "title_cell": "Table of Contents",
   "title_sidebar": "Contents",
   "toc_cell": false,
   "toc_position": {},
   "toc_section_display": true,
   "toc_window_display": false
  }
 },
 "nbformat": 4,
 "nbformat_minor": 5
}
