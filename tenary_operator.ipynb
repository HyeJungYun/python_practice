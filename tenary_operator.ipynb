{
 "cells": [
  {
   "cell_type": "markdown",
   "id": "0193f97a",
   "metadata": {},
   "source": [
    "## 전체 코드"
   ]
  },
  {
   "cell_type": "code",
   "execution_count": null,
   "id": "edbaa1b9",
   "metadata": {},
   "outputs": [],
   "source": [
    "## 삼항연산자 기본\n",
    "a=10\n",
    "print(\"a is big\" if a > 5 else \"a is small\")\n",
    "# 출력: a is big\n",
    "\n",
    "## 중첩 삼항연산자\n",
    "a = 3\n",
    "print(\"a is big\" if a > 5 else \"삼위일체\" if a==3 else \"a is small\")\n",
    "# 출력: 삼위일체\n",
    "\n",
    "## 함수와 함께 삼항연산자\n",
    "def test(p):\n",
    "    print(f\"a is {p}\")\n",
    "a=10\n",
    "test(\"king\") if a > 5 else test(\"god\")\n",
    "# a is king"
   ]
  },
  {
   "cell_type": "markdown",
   "id": "ae33e2a5",
   "metadata": {},
   "source": [
    "## 삼항연산자 기본"
   ]
  },
  {
   "cell_type": "code",
   "execution_count": 11,
   "id": "0e07b143",
   "metadata": {
    "ExecuteTime": {
     "end_time": "2022-07-07T14:40:25.315228Z",
     "start_time": "2022-07-07T14:40:25.311620Z"
    }
   },
   "outputs": [
    {
     "name": "stdout",
     "output_type": "stream",
     "text": [
      "a is big\n"
     ]
    }
   ],
   "source": [
    "a=10\n",
    "print(\"a is big\" if a > 5 else \"a is small\")"
   ]
  },
  {
   "cell_type": "markdown",
   "id": "ee18414e",
   "metadata": {},
   "source": [
    "## 중첩 삼항연산자"
   ]
  },
  {
   "cell_type": "code",
   "execution_count": 12,
   "id": "8e15e9cf",
   "metadata": {
    "ExecuteTime": {
     "end_time": "2022-07-07T14:40:25.729755Z",
     "start_time": "2022-07-07T14:40:25.722908Z"
    }
   },
   "outputs": [
    {
     "name": "stdout",
     "output_type": "stream",
     "text": [
      "a is small\n"
     ]
    }
   ],
   "source": [
    "a = 4\n",
    "print(\"a is big\" if a > 5 else \"삼위일체\" if a==3 else \"a is small\")"
   ]
  },
  {
   "cell_type": "code",
   "execution_count": 17,
   "id": "0e84541f",
   "metadata": {
    "ExecuteTime": {
     "end_time": "2022-07-07T14:50:51.119967Z",
     "start_time": "2022-07-07T14:50:51.111705Z"
    }
   },
   "outputs": [
    {
     "name": "stdout",
     "output_type": "stream",
     "text": [
      "삼위일체\n"
     ]
    }
   ],
   "source": [
    "a = 3\n",
    "print(\"a is big\" if a > 5 else \"삼위일체\" if a==3 else \"a is small\")"
   ]
  },
  {
   "cell_type": "code",
   "execution_count": 18,
   "id": "c52cd7cd",
   "metadata": {
    "ExecuteTime": {
     "end_time": "2022-07-07T14:50:51.465539Z",
     "start_time": "2022-07-07T14:50:51.456995Z"
    }
   },
   "outputs": [
    {
     "name": "stdout",
     "output_type": "stream",
     "text": [
      "삼위일체\n"
     ]
    }
   ],
   "source": [
    "if a > 5:\n",
    "    print(\"a is big\")\n",
    "elif a==3:\n",
    "    print(\"삼위일체\")\n",
    "else:\n",
    "    print(\"a is small\")"
   ]
  },
  {
   "cell_type": "markdown",
   "id": "153b4388",
   "metadata": {},
   "source": [
    "## 함수와 함께 삼항연산자"
   ]
  },
  {
   "cell_type": "code",
   "execution_count": 15,
   "id": "b7668cfc",
   "metadata": {
    "ExecuteTime": {
     "end_time": "2022-07-07T14:40:27.185086Z",
     "start_time": "2022-07-07T14:40:27.178457Z"
    }
   },
   "outputs": [
    {
     "name": "stdout",
     "output_type": "stream",
     "text": [
      "a is king\n"
     ]
    }
   ],
   "source": [
    "def test(job):\n",
    "    print(f\"a is {job}\")\n",
    "\n",
    "a=10\n",
    "test(\"king\") if a > 5 else test(\"god\")"
   ]
  }
 ],
 "metadata": {
  "kernelspec": {
   "display_name": "Python 3",
   "language": "python",
   "name": "python3"
  },
  "language_info": {
   "codemirror_mode": {
    "name": "ipython",
    "version": 3
   },
   "file_extension": ".py",
   "mimetype": "text/x-python",
   "name": "python",
   "nbconvert_exporter": "python",
   "pygments_lexer": "ipython3",
   "version": "3.8.12"
  },
  "toc": {
   "base_numbering": 1,
   "nav_menu": {},
   "number_sections": true,
   "sideBar": true,
   "skip_h1_title": false,
   "title_cell": "Table of Contents",
   "title_sidebar": "Contents",
   "toc_cell": false,
   "toc_position": {},
   "toc_section_display": true,
   "toc_window_display": false
  }
 },
 "nbformat": 4,
 "nbformat_minor": 5
}
