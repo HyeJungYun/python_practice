{
 "cells": [
  {
   "cell_type": "markdown",
   "metadata": {},
   "source": [
    "## 전체 코드"
   ]
  },
  {
   "cell_type": "code",
   "execution_count": null,
   "metadata": {},
   "outputs": [],
   "source": [
    "## 기초 예시\n",
    "a=10\n",
    "print(f\"a: {a}\") # Output: 10\n",
    "print(f\"a: {a:.2f}\") # Output: 10.00\n",
    "\n",
    "## 자주 사용하는 포맷팅\n",
    "### 소수점 자리수\n",
    "import math\n",
    "pi=math.pi\n",
    "print(pi) # Output: 3.141592653589793\n",
    "print(f\"파이: {pi:.3f}\") # Output: 파이: 3.142\n",
    "\n",
    "### 퍼센트(백분율)\n",
    "percent=0.9522\n",
    "print(f\"퍼센트: {percent:.2%}\") # Output: 퍼센트: 95.22%\n",
    "\n",
    "### 부동 소수점 출력\n",
    "li = [0.0, 0.5, 1.0]\n",
    "for i in li:\n",
    "    print(i) # Output: 0.0 0.5 1.0\n",
    "\n",
    "for i in li:\n",
    "    print(f\"{i:g}\") # Output: 0 0.5 1"
   ]
  },
  {
   "cell_type": "markdown",
   "metadata": {},
   "source": [
    "## 기초 예시"
   ]
  },
  {
   "cell_type": "code",
   "execution_count": 1,
   "metadata": {
    "ExecuteTime": {
     "end_time": "2022-06-15T18:14:23.632370Z",
     "start_time": "2022-06-15T18:14:23.620893Z"
    }
   },
   "outputs": [
    {
     "name": "stdout",
     "output_type": "stream",
     "text": [
      "a: 10\n"
     ]
    }
   ],
   "source": [
    "a=10\n",
    "print(f\"a: {a}\")"
   ]
  },
  {
   "cell_type": "code",
   "execution_count": 3,
   "metadata": {
    "ExecuteTime": {
     "end_time": "2022-06-15T18:26:44.666571Z",
     "start_time": "2022-06-15T18:26:44.659838Z"
    }
   },
   "outputs": [
    {
     "name": "stdout",
     "output_type": "stream",
     "text": [
      "a: 10.00\n"
     ]
    }
   ],
   "source": [
    "print(f\"a: {a:.2f}\")"
   ]
  },
  {
   "cell_type": "markdown",
   "metadata": {},
   "source": [
    "## 자주 사용하는 포맷팅"
   ]
  },
  {
   "cell_type": "markdown",
   "metadata": {},
   "source": [
    "### 소수점 자리수"
   ]
  },
  {
   "cell_type": "code",
   "execution_count": 10,
   "metadata": {
    "ExecuteTime": {
     "end_time": "2022-06-15T18:37:01.776667Z",
     "start_time": "2022-06-15T18:37:01.766996Z"
    }
   },
   "outputs": [
    {
     "name": "stdout",
     "output_type": "stream",
     "text": [
      "3.141592653589793\n",
      "파이: 3.142\n"
     ]
    }
   ],
   "source": [
    "import math\n",
    "pi=math.pi\n",
    "print(pi)\n",
    "print(f\"파이: {pi:.3f}\")"
   ]
  },
  {
   "cell_type": "markdown",
   "metadata": {},
   "source": [
    "### 퍼센트(백분율)"
   ]
  },
  {
   "cell_type": "code",
   "execution_count": 6,
   "metadata": {
    "ExecuteTime": {
     "end_time": "2022-06-15T18:30:13.318854Z",
     "start_time": "2022-06-15T18:30:13.313360Z"
    }
   },
   "outputs": [
    {
     "name": "stdout",
     "output_type": "stream",
     "text": [
      "퍼센트: 95.22%\n"
     ]
    }
   ],
   "source": [
    "percent=0.9522\n",
    "print(f\"퍼센트: {percent:.2%}\")"
   ]
  },
  {
   "cell_type": "markdown",
   "metadata": {},
   "source": [
    "### 부동 소수점 출력\n"
   ]
  },
  {
   "cell_type": "code",
   "execution_count": 7,
   "metadata": {
    "ExecuteTime": {
     "end_time": "2022-06-15T18:31:23.586730Z",
     "start_time": "2022-06-15T18:31:23.579421Z"
    }
   },
   "outputs": [
    {
     "name": "stdout",
     "output_type": "stream",
     "text": [
      "0.0\n",
      "0.5\n",
      "1.0\n"
     ]
    }
   ],
   "source": [
    "li = [0.0, 0.5, 1.0]\n",
    "for i in li:\n",
    "    print(i)"
   ]
  },
  {
   "cell_type": "code",
   "execution_count": 8,
   "metadata": {
    "ExecuteTime": {
     "end_time": "2022-06-15T18:31:31.810684Z",
     "start_time": "2022-06-15T18:31:31.803822Z"
    }
   },
   "outputs": [
    {
     "name": "stdout",
     "output_type": "stream",
     "text": [
      "0\n",
      "0.5\n",
      "1\n"
     ]
    }
   ],
   "source": [
    "for i in li:\n",
    "    print(f\"{i:g}\")"
   ]
  }
 ],
 "metadata": {
  "kernelspec": {
   "display_name": "Python 3",
   "language": "python",
   "name": "python3"
  },
  "language_info": {
   "codemirror_mode": {
    "name": "ipython",
    "version": 3
   },
   "file_extension": ".py",
   "mimetype": "text/x-python",
   "name": "python",
   "nbconvert_exporter": "python",
   "pygments_lexer": "ipython3",
   "version": "3.8.12"
  },
  "toc": {
   "base_numbering": 1,
   "nav_menu": {},
   "number_sections": true,
   "sideBar": true,
   "skip_h1_title": false,
   "title_cell": "Table of Contents",
   "title_sidebar": "Contents",
   "toc_cell": false,
   "toc_position": {},
   "toc_section_display": true,
   "toc_window_display": false
  }
 },
 "nbformat": 4,
 "nbformat_minor": 4
}
