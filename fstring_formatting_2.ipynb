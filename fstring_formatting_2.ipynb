{
 "cells": [
  {
   "cell_type": "markdown",
   "metadata": {},
   "source": [
    "## 전체 코드"
   ]
  },
  {
   "cell_type": "code",
   "execution_count": null,
   "metadata": {},
   "outputs": [],
   "source": [
    "### 2,8,16 진수\n",
    "k=15\n",
    "print(f\"k 2진수: {k:b}, k 8진수: {k:o}\")\n",
    "print(f\"k 16진수 - 소문자:{k:x}, 대문자:{k:X}\")\n",
    "\n",
    "### 1000 단위 쉼표(,)\n",
    "m=1000000000\n",
    "print(f\"m: {m:,} 원\")\n",
    "\n",
    "### 출력 길이 조절\n",
    "print(f\"a:{a:10}\")\n",
    "\n",
    "### 왼쪽, 오른쪽, 가운데 정렬\n",
    "print(f\"a center: {a:^10}.\")\n",
    "print(f\"a left: {a:<10}.\")\n",
    "print(f\"a right: {a:>10}.\")\n",
    "\n",
    "### 특정 문자로 채우기\n",
    "print(f\"a:{a:-^10}.\")"
   ]
  },
  {
   "cell_type": "markdown",
   "metadata": {},
   "source": [
    "## 포맷팅 종류"
   ]
  },
  {
   "cell_type": "markdown",
   "metadata": {},
   "source": [
    "### 2,8,16 진수"
   ]
  },
  {
   "cell_type": "code",
   "execution_count": 56,
   "metadata": {
    "ExecuteTime": {
     "end_time": "2022-06-25T10:21:46.856497Z",
     "start_time": "2022-06-25T10:21:46.847126Z"
    }
   },
   "outputs": [
    {
     "name": "stdout",
     "output_type": "stream",
     "text": [
      "k 2진수: 1111, k 8진수: 17\n",
      "k 16진수 - 소문자:f, 대문자:F\n"
     ]
    }
   ],
   "source": [
    "k=15\n",
    "print(f\"k 2진수: {k:b}, k 8진수: {k:o}\")\n",
    "print(f\"k 16진수 - 소문자:{k:x}, 대문자:{k:X}\")"
   ]
  },
  {
   "cell_type": "markdown",
   "metadata": {
    "ExecuteTime": {
     "end_time": "2022-06-25T10:51:03.230686Z",
     "start_time": "2022-06-25T10:51:03.225057Z"
    }
   },
   "source": [
    "### 1000 단위 쉼표(,)"
   ]
  },
  {
   "cell_type": "code",
   "execution_count": 17,
   "metadata": {
    "ExecuteTime": {
     "end_time": "2022-06-25T10:16:43.869599Z",
     "start_time": "2022-06-25T10:16:43.862504Z"
    }
   },
   "outputs": [
    {
     "name": "stdout",
     "output_type": "stream",
     "text": [
      "m: 1,000,000,000 원\n"
     ]
    }
   ],
   "source": [
    "m=1000000000\n",
    "print(f\"m: {m:,} 원\")"
   ]
  },
  {
   "cell_type": "markdown",
   "metadata": {},
   "source": [
    "### 출력 길이 조절"
   ]
  },
  {
   "cell_type": "code",
   "execution_count": 61,
   "metadata": {
    "ExecuteTime": {
     "end_time": "2022-06-25T11:29:38.317183Z",
     "start_time": "2022-06-25T11:29:38.309986Z"
    }
   },
   "outputs": [
    {
     "name": "stdout",
     "output_type": "stream",
     "text": [
      "k:        15.\n"
     ]
    }
   ],
   "source": [
    "print(f\"k:{k:10}.\")"
   ]
  },
  {
   "cell_type": "markdown",
   "metadata": {},
   "source": [
    "### 왼쪽, 오른쪽, 가운데 정렬"
   ]
  },
  {
   "cell_type": "code",
   "execution_count": 59,
   "metadata": {
    "ExecuteTime": {
     "end_time": "2022-06-25T10:52:36.719496Z",
     "start_time": "2022-06-25T10:52:36.710427Z"
    }
   },
   "outputs": [
    {
     "name": "stdout",
     "output_type": "stream",
     "text": [
      "k center:     15    .\n",
      "k left: 15        .\n",
      "k right:         15.\n"
     ]
    }
   ],
   "source": [
    "print(f\"k center: {k:^10}.\")\n",
    "print(f\"k left: {k:<10}.\")\n",
    "print(f\"k right: {k:>10}.\")"
   ]
  },
  {
   "cell_type": "markdown",
   "metadata": {},
   "source": [
    "### 특정 문자로 채우기"
   ]
  },
  {
   "cell_type": "code",
   "execution_count": 60,
   "metadata": {
    "ExecuteTime": {
     "end_time": "2022-06-25T10:52:37.527967Z",
     "start_time": "2022-06-25T10:52:37.520993Z"
    }
   },
   "outputs": [
    {
     "name": "stdout",
     "output_type": "stream",
     "text": [
      "k:----15----.\n"
     ]
    }
   ],
   "source": [
    "print(f\"k:{k:-^10}.\")"
   ]
  }
 ],
 "metadata": {
  "kernelspec": {
   "display_name": "Python 3",
   "language": "python",
   "name": "python3"
  },
  "language_info": {
   "codemirror_mode": {
    "name": "ipython",
    "version": 3
   },
   "file_extension": ".py",
   "mimetype": "text/x-python",
   "name": "python",
   "nbconvert_exporter": "python",
   "pygments_lexer": "ipython3",
   "version": "3.8.12"
  },
  "toc": {
   "base_numbering": 1,
   "nav_menu": {},
   "number_sections": true,
   "sideBar": true,
   "skip_h1_title": false,
   "title_cell": "Table of Contents",
   "title_sidebar": "Contents",
   "toc_cell": false,
   "toc_position": {},
   "toc_section_display": true,
   "toc_window_display": true
  }
 },
 "nbformat": 4,
 "nbformat_minor": 4
}
